{
 "cells": [
  {
   "cell_type": "code",
   "execution_count": 2,
   "metadata": {},
   "outputs": [],
   "source": [
    "import numpy as np\n",
    "import matplotlib.pyplot as plt \n",
    "import progressbar\n",
    "from scipy import linalg as la\n",
    "from scipy.sparse import identity\n",
    "from scipy.sparse import rand\n",
    "from scipy.sparse import diags\n",
    "from scipy.sparse import triu\n",
    "\n",
    "def gen_model(dim):\n",
    "    ## dim is dimension value\n",
    "    dim=10\n",
    "    dim_o=10\n",
    "    A1 = -rand(dim,dim,density=0.75).toarray()/5\n",
    "    A2 = triu(A1, k=1).toarray()/(10)\n",
    "    A = diags(np.random.normal(-0.5,0,dim),0).toarray()/50 + A2 - A2.T\n",
    "    ## we denote R1^{1/2},R2^{1/2} as R1,R2 repectively for convenience\n",
    "    ## Non-Identity covariance matrix\n",
    "    R1=(identity(dim).toarray() + np.tri(dim,dim,1) - np.tri(dim,dim,-2))/2\n",
    "    R2=(identity(dim_o).toarray() + np.tri(dim_o,dim_o,1) - np.tri(dim_o,dim_o,-2))/2\n",
    "\n",
    "    H=rand(dim_o,dim,density=0.75).toarray()/20\n",
    "    m0=np.zeros(dim)+6\n",
    "    C0=identity(dim).toarray()\n",
    "    ## Collection of input \n",
    "    collection_input = [dim,dim_o,A,R1,R2,H,m0,C0]\n",
    "    return collection_input\n",
    "\n",
    "def gen_data(T,l,collection_input):\n",
    "    \n",
    "    [dim,dim_o,A,R1,R2,H,m0,C0]=collection_input\n",
    "    J=T*(2**l)\n",
    "    I=identity(dim).toarray()\n",
    "    tau=2**(-l)\n",
    "    L=la.expm(A*tau)\n",
    "    ## We are going to need W to be symmetric! \n",
    "    W=(R1@R1)@(la.inv(A+A.T)@(L@(L.T)-I))\n",
    "    C=tau*H\n",
    "    V=(R2@R2)*tau\n",
    "\n",
    "    v=np.zeros((J+1,dim,1))\n",
    "    z=np.zeros((J+1,dim_o,1))\n",
    "    v[0]=np.random.multivariate_normal(m0,C0,(1)).T\n",
    "    z[0]=np.zeros((dim_o,1))\n",
    "\n",
    "\n",
    "    for j in range(J):\n",
    "        ## truth\n",
    "        v[j+1] = L@v[j] + np.random.multivariate_normal(np.zeros(dim),W,(1)).T\n",
    "        ## observation\n",
    "        z[j+1] = z[j] + C@v[j+1] + np.random.multivariate_normal(np.zeros(dim_o),V,(1)).T\n",
    "        \n",
    "    return([z,v])\n",
    "\n",
    "def cut(T,lmax,l,v):\n",
    "    ind = np.arange(T*2**l+1)\n",
    "    rtau = 2**(lmax-l)\n",
    "    w = v[ind*rtau]\n",
    "    return(w)\n",
    "\n",
    "def EnKBF(T,l,lmax,z,N,collection_input):\n",
    "    \n",
    "    [dim,dim_o,A,R1,R2,H,m0,C0]=collection_input\n",
    "    J=T*(2**l)\n",
    "    I=identity(dim).toarray()\n",
    "    I_o=identity(dim_o).toarray()\n",
    "    dt=2**(-l)\n",
    "    \n",
    "    m=np.zeros((J+1,dim,1))\n",
    "    c=np.zeros((J+1,dim,dim))\n",
    "    z=cut(T,lmax,l,z)\n",
    "    \n",
    "    ## This gives a dim*N matrix\n",
    "    x = np.random.multivariate_normal(m0,C0,N).T\n",
    "    ## A dim*1 vector\n",
    "    m[0]=(np.mean(x, axis=1)).reshape(dim,1)\n",
    "    ## dim*dim matrix\n",
    "    c[0]=((x-m[0])@((x-m[0]).T)) /(N-1)\n",
    "    for j in range(J):\n",
    "        dw = np.random.multivariate_normal(np.zeros(dim),dt*I,N).T\n",
    "        dv = np.random.multivariate_normal(np.zeros(dim_o),dt*I_o,N).T\n",
    "        ## A@x:dim*N R1@dw:dim*N c[j]@(H.T):dim*dim_o z[j+1]-z[j]:dim_o*1 H@x*dt:dim_o*N R2*dv:dim_o*N \n",
    "        ## x-m[j]:dim*N c[j]:dim*dim\n",
    "        \n",
    "        step1=(((x-m[j]).T)@(H.T))\n",
    "        step2=step1@(la.inv(R2)@la.inv(R2))\n",
    "        step3=step2@( (z[j+1]-z[j]) - (H@x*dt + R2@dv) )\n",
    "        step4=(x-m[j])@step3 /(N-1)\n",
    "        \n",
    "        x = x + A@x*dt + R1@dw + step4\n",
    "        m[j+1] = (np.mean(x, axis=1)).reshape(dim,1)\n",
    "\n",
    "    return([m,c])\n",
    "\n",
    "def CEnKBF(T,l,lmax,z,N,collection_input):\n",
    "    \n",
    "    [dim,dim_o,A,R1,R2,H,m0,C0]=collection_input\n",
    "    J=T*(2**(l-1))\n",
    "    I=identity(dim).toarray()\n",
    "    I1=identity(dim_o).toarray()\n",
    "    dt=2**(-l)\n",
    "    dt1=2**(-l+1)\n",
    "    \n",
    "    m=np.zeros((J*2+1,dim,1))\n",
    "    m1=np.zeros((J+1,dim,1))\n",
    "    c=np.zeros((J*2+1,dim,dim))\n",
    "    c1=np.zeros((J+1,dim,dim))\n",
    "    z1=cut(T,lmax,l-1,z)\n",
    "    z=cut(T,lmax,l,z)\n",
    "    \n",
    "    ## This gives a dim*N matrix\n",
    "    x = np.random.multivariate_normal(m0,C0,N).T\n",
    "    x1 = x\n",
    "    ## A dim*1 vector\n",
    "    m[0]=(np.mean(x, axis=1)).reshape(dim,1)\n",
    "    m1[0]=m[0]\n",
    "    ## dim*dim matrix\n",
    "    c[0]=((x-m[0])@((x-m[0]).T)) /(N-1)\n",
    "    c1[0]=c[0]\n",
    "    \n",
    "    dw=np.zeros((2,dim,N))\n",
    "    dv=np.zeros((2,dim_o,N))\n",
    "    for j in range(J):\n",
    "        for s in range(2):\n",
    "            dw[s] = np.random.multivariate_normal(np.zeros(dim),dt*I,N).T\n",
    "            dv[s] = np.random.multivariate_normal(np.zeros(dim_o),dt*I1,N).T\n",
    "            ## A@x:dim*N R1@dw:dim*N c[j]@(H.T):dim*dim_o z[j+1]-z[j]:dim_o*1 H@x*dt:dim_o*N R2*dv:dim_o*N \n",
    "            ## x-m[j]:dim*N c[j]:dim*dim\n",
    "\n",
    "            step1=(((x-m[2*j+s]).T)@(H.T))\n",
    "            step2=step1@(la.inv(R2)@la.inv(R2))\n",
    "            step3=step2@( (z[2*j+s+1]-z[2*j+s]) - (H@x*dt + R2@dv[s]) )\n",
    "            step4=(x-m[2*j+s])@step3 /(N-1)\n",
    "\n",
    "            x = x + A@x*dt + R1@dw[s] + step4\n",
    "            m[2*j+s+1] = (np.mean(x, axis=1)).reshape(dim,1)\n",
    "        \n",
    "        step1=(((x1-m1[j]).T)@(H.T))\n",
    "        step2=step1@(la.inv(R2)@la.inv(R2))\n",
    "        step3=step2@( (z1[j+1]-z1[j]) - (H@x1*dt1 + R2@(dv[0]+dv[1])) )\n",
    "        step4=(x1-m1[j])@step3 /(N-1)\n",
    "        \n",
    "        x1 = x1 + A@x1*dt1 + R1@(dw[0]+dw[1]) + step4\n",
    "        m1[j+1] = (np.mean(x1, axis=1)).reshape(dim,1)\n",
    "        \n",
    "    return([m,m1])\n",
    "  \n",
    "def coef(x, y): \n",
    "    # number of observations/points \n",
    "    n = np.size(x) \n",
    "  \n",
    "    # mean of x and y vector \n",
    "    m_x, m_y = np.mean(x), np.mean(y) \n",
    "  \n",
    "    # calculating cross-deviation and deviation about x \n",
    "    SS_xy = np.sum(y*x) - n*m_y*m_x \n",
    "    SS_xx = np.sum(x*x) - n*m_x*m_x \n",
    "  \n",
    "    # calculating regression coefficients \n",
    "    b_1 = SS_xy / SS_xx \n",
    "    b_0 = m_y - b_1*m_x \n",
    "  \n",
    "    return(b_0, b_1) "
   ]
  },
  {
   "cell_type": "code",
   "execution_count": 3,
   "metadata": {},
   "outputs": [],
   "source": [
    "#T = 2\n",
    "def fit_var_cenkbf(seed_val):\n",
    "    np.random.seed(seed_val)\n",
    "    dim = 10\n",
    "    lmax=9\n",
    "    N = 50\n",
    "    collection_input = gen_model(dim)\n",
    "    z = gen_data(T,lmax,collection_input)[0]\n",
    "    delta_seq = np.zeros(10)\n",
    "    for l in range(10):\n",
    "        delta_seq[l] = 2**(-l)\n",
    "    \n",
    "    Rep=100\n",
    "    evar=np.zeros(10)\n",
    "    for l in range(4,8):\n",
    "        est = np.zeros(Rep)\n",
    "        for rep in range(Rep):\n",
    "            with np.errstate(divide='ignore'):\n",
    "                [m,m1]=CEnKBF(T,l,lmax,z,N,collection_input)\n",
    "                est[rep] = np.mean(m[-1,:]) - np.mean(m1[-1,:])\n",
    "        evar[l] = np.var(est)\n",
    "        \n",
    "    x = np.log10(delta_seq[4:8])\n",
    "    y = np.log10(evar[4:8])\n",
    "    b=coef(x,y)\n",
    "    return b"
   ]
  },
  {
   "cell_type": "code",
   "execution_count": 4,
   "metadata": {},
   "outputs": [
    {
     "data": {
      "text/plain": [
       "(-1.6438351561150732, 1.0125638159551396)"
      ]
     },
     "execution_count": 4,
     "metadata": {},
     "output_type": "execute_result"
    }
   ],
   "source": [
    "T = 2\n",
    "fit_var_cenkbf(0)"
   ]
  },
  {
   "cell_type": "markdown",
   "metadata": {},
   "source": [
    "### Multiprocessing Implementaion"
   ]
  },
  {
   "cell_type": "code",
   "execution_count": 5,
   "metadata": {},
   "outputs": [
    {
     "name": "stdout",
     "output_type": "stream",
     "text": [
      "64 worker available\n"
     ]
    }
   ],
   "source": [
    "import multiprocessing as mp\n",
    "import warnings\n",
    "warnings.filterwarnings(\"ignore\")\n",
    "\n",
    "T = 2\n",
    "nprocs = mp.cpu_count()\n",
    "print(\"%d worker available\" %nprocs)\n",
    "\n",
    "# let's create a pool of workers\n",
    "pool = mp.Pool(processes=nprocs)"
   ]
  },
  {
   "cell_type": "markdown",
   "metadata": {},
   "source": [
    "### Acceleration effect is obvious"
   ]
  },
  {
   "cell_type": "code",
   "execution_count": 7,
   "metadata": {},
   "outputs": [
    {
     "name": "stdout",
     "output_type": "stream",
     "text": [
      "Results collection:\n",
      "[(-1.9497522961216043, 0.886077129351439), (-1.6535341674946367, 0.9968117317174593), (-1.252538278874287, 1.0876457238545831), (nan, nan), (-1.075976496126016, 1.077500672459725)]\n"
     ]
    }
   ],
   "source": [
    "result = pool.map(fit_var_cenkbf,np.arange(2,7))\n",
    "print(\"Results collection:\")\n",
    "print(result)\n",
    "pool.close()"
   ]
  },
  {
   "cell_type": "markdown",
   "metadata": {},
   "source": [
    "### Result compilation: getting rid of exploding models"
   ]
  },
  {
   "cell_type": "code",
   "execution_count": 8,
   "metadata": {},
   "outputs": [
    {
     "data": {
      "text/plain": [
       "array([[-1.9497523 ,  0.88607713],\n",
       "       [-1.65353417,  0.99681173],\n",
       "       [-1.25253828,  1.08764572],\n",
       "       [-1.0759765 ,  1.07750067]])"
      ]
     },
     "execution_count": 8,
     "metadata": {},
     "output_type": "execute_result"
    }
   ],
   "source": [
    "x = np.asarray(result)\n",
    "len_x = int(x[~np.isnan(x)].shape[0]/2)\n",
    "result_array = x[~np.isnan(x)].reshape((len_x,2))\n",
    "\n",
    "result_array"
   ]
  },
  {
   "cell_type": "code",
   "execution_count": null,
   "metadata": {},
   "outputs": [],
   "source": []
  }
 ],
 "metadata": {
  "kernelspec": {
   "display_name": "Python 3",
   "language": "python",
   "name": "python3"
  },
  "language_info": {
   "codemirror_mode": {
    "name": "ipython",
    "version": 3
   },
   "file_extension": ".py",
   "mimetype": "text/x-python",
   "name": "python",
   "nbconvert_exporter": "python",
   "pygments_lexer": "ipython3",
   "version": "3.7.7"
  }
 },
 "nbformat": 4,
 "nbformat_minor": 4
}
