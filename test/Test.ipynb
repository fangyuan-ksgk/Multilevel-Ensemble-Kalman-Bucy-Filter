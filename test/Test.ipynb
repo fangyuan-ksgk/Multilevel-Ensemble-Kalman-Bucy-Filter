{
 "cells": [
  {
   "cell_type": "markdown",
   "metadata": {},
   "source": [
    "$$dX_t = A X_t dt + R_1 dW_t$$\n",
    "$$dY_t = H X_t dt + R_2 dV_t$$"
   ]
  },
  {
   "cell_type": "markdown",
   "metadata": {},
   "source": [
    "Model settings: (Conditions that the model needs to satsify)\n",
    "1. Signal of dimension 'dim', and the observtations are in dimension 'dim_o'\n",
    "2. $x_0|y_0 \\sim N(m_0,C_0)$\n",
    "3. $R_1, R_2$ is symmetric\n",
    "4. $R_1$ is commutable with $A$\n",
    "5. $(A+A')$ is invertible\n",
    "6. For convenience purpose the target function is $\\varphi(x)=x^{1}$, where $x=(x^{1},x^{2},...,x^{dim})$\n",
    "\n",
    "In this code, I will include the $A,R_1,R_2,H,m_0,C_0$ as parameter as well, so that it's easily scalable wrt any dimension dim.\n",
    "Note that dim needs to be bigger than 1, as the matrix multiplication sign '@' in python doesn't support '*' in one dimension."
   ]
  },
  {
   "cell_type": "markdown",
   "metadata": {},
   "source": [
    "First the input value for $A,R1,R2,H,m_0,C_0$ need to be folded into one variable.\n",
    "One need to specify the model in the cell below first.\n",
    "\n",
    "I should include the funciton $\\varphi$ as well"
   ]
  },
  {
   "cell_type": "markdown",
   "metadata": {},
   "source": [
    "Note - June 11th\n",
    "One thing to keep in mind, is that the choice of R2 is quite important (we need a small R2 in order to have meaningful inference result, this could be demonstrated by simple simulation), another thing is that intuitively we would like to have observation of higher dimension than the signal. Heuristically this would allow us to have reasonable inference as well. Imagine we have 1000 dimensional signal but only one dimensional observation, then it would be impossible to get any information out."
   ]
  },
  {
   "cell_type": "code",
   "execution_count": 53,
   "metadata": {},
   "outputs": [],
   "source": [
    "import numpy as np\n",
    "from scipy import linalg as la\n",
    "from scipy.sparse import identity\n",
    "from scipy.sparse import rand\n",
    "from scipy.sparse import diags\n",
    "from scipy.sparse import triu\n",
    "## dim is dimension value\n",
    "dim=10\n",
    "dim_o=10\n",
    "A1 = -rand(dim,dim,density=0.75).toarray()/5\n",
    "A2 = triu(A1, k=1).toarray()/(10)\n",
    "A = diags(np.random.normal(-0.5,0,dim),0).toarray()/50 + A2 - A2.T\n",
    "## we denote R1^{1/2},R2^{1/2} as R1,R2 repectively for convenience\n",
    "## Non-Identity covariance matrix\n",
    "R1=(identity(dim).toarray() + np.tri(dim,dim,1) - np.tri(dim,dim,-2))/2\n",
    "R2=(identity(dim_o).toarray() + np.tri(dim_o,dim_o,1) - np.tri(dim_o,dim_o,-2))/20\n",
    "\n",
    "H=rand(dim_o,dim,density=0.75).toarray()/20\n",
    "m0=np.zeros(dim)+6\n",
    "C0=identity(dim).toarray()\n",
    "## Collection of input \n",
    "collection_input = [dim,dim_o,A,R1,R2,H,m0,C0]"
   ]
  },
  {
   "cell_type": "markdown",
   "metadata": {},
   "source": [
    "Data & Truth Gneration Function"
   ]
  },
  {
   "cell_type": "code",
   "execution_count": 2,
   "metadata": {},
   "outputs": [],
   "source": [
    "def gen_data(T,l,collection_input):\n",
    "    \n",
    "    [dim,dim_o,A,R1,R2,H,m0,C0]=collection_input\n",
    "    J=T*(2**l)\n",
    "    I=identity(dim).toarray()\n",
    "    tau=2**(-l)\n",
    "    L=la.expm(A*tau)\n",
    "    ## We are going to need W to be symmetric! \n",
    "    W=(R1@R1)@(la.inv(A+A.T)@(L@(L.T)-I))\n",
    "    C=tau*H\n",
    "    V=(R2@R2)*tau\n",
    "\n",
    "    v=np.zeros((J+1,dim,1))\n",
    "    z=np.zeros((J+1,dim_o,1))\n",
    "    v[0]=np.random.multivariate_normal(m0,C0,(1)).T\n",
    "    z[0]=np.zeros((dim_o,1))\n",
    "\n",
    "\n",
    "    for j in range(J):\n",
    "        ## truth\n",
    "        v[j+1] = L@v[j] + np.random.multivariate_normal(np.zeros(dim),W,(1)).T\n",
    "        ## observation\n",
    "        z[j+1] = z[j] + C@v[j+1] + np.random.multivariate_normal(np.zeros(dim_o),V,(1)).T\n",
    "        \n",
    "    return([z,v])"
   ]
  },
  {
   "cell_type": "markdown",
   "metadata": {},
   "source": [
    "Cut & Trim Function"
   ]
  },
  {
   "cell_type": "code",
   "execution_count": 3,
   "metadata": {},
   "outputs": [],
   "source": [
    "def cut(T,lmax,l,v):\n",
    "    ind = np.arange(T*2**l+1)\n",
    "    rtau = 2**(lmax-l)\n",
    "    w = v[ind*rtau]\n",
    "    return(w)"
   ]
  },
  {
   "cell_type": "markdown",
   "metadata": {},
   "source": [
    "Kalman Bucy Filter"
   ]
  },
  {
   "cell_type": "code",
   "execution_count": 4,
   "metadata": {},
   "outputs": [],
   "source": [
    "def KBF(T,l,lmax,z,collection_input):\n",
    "    \n",
    "    [dim,dim_o,A,R1,R2,H,m0,C0]=collection_input\n",
    "    J=T*(2**l)\n",
    "    I=identity(dim).toarray()\n",
    "    tau=2**(-l)\n",
    "    L=la.expm(A*tau)\n",
    "    W=(R1@R1)@(la.inv(A+A.T)@(L@(L.T)-I))\n",
    "    ## C: dim_o*dim matrix\n",
    "    C=tau*H\n",
    "    V=(R2@R2)*tau\n",
    "    \n",
    "    z=cut(T,lmax,l,z)\n",
    "    m=np.zeros((J+1,dim,1))\n",
    "    c=np.zeros((J+1,dim,dim))\n",
    "    m[0]=6*np.ones((dim,1))\n",
    "    c[0]=C0\n",
    "    \n",
    "    for j in range(J):\n",
    "        ## prediction mean-dim*1 vector\n",
    "        mhat=L@m[j]\n",
    "        ## prediction covariance-dim*dim matrix\n",
    "        chat=L@c[j]@(L.T)+W\n",
    "        ## innovation-dim_o*1 vector\n",
    "        d=(z[j+1]-z[j])-C@mhat\n",
    "        ## Kalman gain-dim*dim_o vector\n",
    "        K=(chat@(C.T))@la.inv(C@chat@(C.T)+V)\n",
    "        ## update mean-dim*1 vector\n",
    "        m[j+1]=mhat+K@d\n",
    "        ## update covariance-dim*dim matrix\n",
    "        c[j+1]=(I-K@C)@chat\n",
    "        \n",
    "    return([m,c])"
   ]
  },
  {
   "cell_type": "markdown",
   "metadata": {},
   "source": [
    "Testing Floor: KBF"
   ]
  },
  {
   "cell_type": "code",
   "execution_count": 79,
   "metadata": {},
   "outputs": [
    {
     "data": {
      "image/png": "[encoded data removed]",
      "text/plain": [
       "<Figure size 432x288 with 1 Axes>"
      ]
     },
     "metadata": {
      "needs_background": "light"
     },
     "output_type": "display_data"
    }
   ],
   "source": [
    "## test:good\n",
    "import numpy as np\n",
    "import matplotlib.pyplot as plt \n",
    "from scipy import linalg as la\n",
    "from scipy.sparse import identity\n",
    "T=100\n",
    "lmax=5\n",
    "l=4\n",
    "tau=2**(-l)\n",
    "## The with numpy.errstate argument is used to avoid any stupid warning\n",
    "with np.errstate(divide='ignore'):\n",
    "    [z,v] = gen_data(T,lmax,collection_input)\n",
    "    [m,c] = KBF(T,l,lmax,z,collection_input)\n",
    "v=cut(T,lmax,l,v)\n",
    "J=T*(2**l)\n",
    "x1 = tau*np.arange(J+1)\n",
    "plt.plot(x1,m[:,0],label=\"KBF posterior mean estimate\")\n",
    "plt.plot(x1,v[:,0],label=\"true value\")\n",
    "plt.xlabel('time')\n",
    "plt.ylabel('value')\n",
    "plt.title('Kalman-Bucy Filter')\n",
    "plt.legend()\n",
    "plt.grid()\n",
    "plt.show()"
   ]
  },
  {
   "cell_type": "markdown",
   "metadata": {},
   "source": [
    "Ensemble Kalman Bucy Filter Function ： Euler"
   ]
  },
  {
   "cell_type": "code",
   "execution_count": 5,
   "metadata": {},
   "outputs": [],
   "source": [
    "def EnKBF(T,l,lmax,z,N,collection_input):\n",
    "    \n",
    "    [dim,dim_o,A,R1,R2,H,m0,C0]=collection_input\n",
    "    J=T*(2**l)\n",
    "    I=identity(dim).toarray()\n",
    "    I_o=identity(dim_o).toarray()\n",
    "    dt=2**(-l)\n",
    "    \n",
    "    m=np.zeros((J+1,dim,1))\n",
    "    c=np.zeros((J+1,dim,dim))\n",
    "    z=cut(T,lmax,l,z)\n",
    "    \n",
    "    ## This gives a dim*N matrix\n",
    "    x = np.random.multivariate_normal(m0,C0,N).T\n",
    "    ## A dim*1 vector\n",
    "    m[0]=(np.mean(x, axis=1)).reshape(dim,1)\n",
    "    ## dim*dim matrix\n",
    "    c[0]=((x-m[0])@((x-m[0]).T)) /(N-1)\n",
    "    for j in range(J):\n",
    "        dw = np.random.multivariate_normal(np.zeros(dim),dt*I,N).T\n",
    "        dv = np.random.multivariate_normal(np.zeros(dim_o),dt*I_o,N).T\n",
    "        ## A@x:dim*N R1@dw:dim*N c[j]@(H.T):dim*dim_o z[j+1]-z[j]:dim_o*1 H@x*dt:dim_o*N R2*dv:dim_o*N \n",
    "        ## x-m[j]:dim*N c[j]:dim*dim\n",
    "        \n",
    "        step1=(((x-m[j]).T)@(H.T))\n",
    "        step2=step1@(la.inv(R2)@la.inv(R2))\n",
    "        step3=step2@( (z[j+1]-z[j]) - (H@x*dt + R2@dv) )\n",
    "        step4=(x-m[j])@step3 /(N-1)\n",
    "        \n",
    "        x = x + A@x*dt + R1@dw + step4\n",
    "        m[j+1] = (np.mean(x, axis=1)).reshape(dim,1)\n",
    "\n",
    "    return([m,c])"
   ]
  },
  {
   "cell_type": "markdown",
   "metadata": {},
   "source": [
    "Deterministic EnKBF function: DEnKBF - Euler"
   ]
  },
  {
   "cell_type": "code",
   "execution_count": 6,
   "metadata": {},
   "outputs": [],
   "source": [
    "def DEnKBF(T,l,lmax,z,N,collection_input):\n",
    "    \n",
    "    [dim,dim_o,A,R1,R2,H,m0,C0]=collection_input\n",
    "    J=T*(2**l)\n",
    "    I=identity(dim).toarray()\n",
    "    I_o=identity(dim_o).toarray()\n",
    "    dt=2**(-l)\n",
    "    \n",
    "    m=np.zeros((J+1,dim,1))\n",
    "    c=np.zeros((J+1,dim,dim))\n",
    "    z=cut(T,lmax,l,z)\n",
    "    \n",
    "    ## This gives a dim*N matrix\n",
    "    x = np.random.multivariate_normal(m0,C0,N).T\n",
    "    ## A dim*1 vector\n",
    "    m[0]=(np.mean(x, axis=1)).reshape(dim,1)\n",
    "    ## dim*dim matrix\n",
    "    c[0]=((x-m[0])@((x-m[0]).T)) /(N-1)\n",
    "    for j in range(J):\n",
    "        dw = np.random.multivariate_normal(np.zeros(dim),dt*I,N).T\n",
    "        dv = np.random.multivariate_normal(np.zeros(dim_o),dt*I_o,N).T\n",
    "        ## A@x:dim*N R1@dw:dim*N c[j]@(H.T):dim*dim_o z[j+1]-z[j]:dim_o*1 H@x*dt:dim_o*N R2*dv:dim_o*N \n",
    "        ## x-m[j]:dim*N c[j]:dim*dim\n",
    "        \n",
    "        step1=(((x-m[j]).T)@(H.T))\n",
    "        step2=step1@(la.inv(R2)@la.inv(R2))\n",
    "        # Only the \"innovation\" term here changes to the \"deterministic\" version\n",
    "        step3=step2@( (z[j+1]-z[j]) - (H@(x+m[j])*dt)/2 )\n",
    "        step4=(x-m[j])@step3 /(N-1)\n",
    "        \n",
    "        x = x + A@x*dt + R1@dw + step4\n",
    "        m[j+1] = (np.mean(x, axis=1)).reshape(dim,1)\n",
    "\n",
    "    return([m,c])"
   ]
  },
  {
   "cell_type": "markdown",
   "metadata": {},
   "source": [
    "Testing Floor: EnKBF"
   ]
  },
  {
   "cell_type": "code",
   "execution_count": 76,
   "metadata": {},
   "outputs": [
    {
     "data": {
      "image/png": "[encoded data removed]",
      "text/plain": [
       "<Figure size 432x288 with 1 Axes>"
      ]
     },
     "metadata": {
      "needs_background": "light"
     },
     "output_type": "display_data"
    }
   ],
   "source": [
    "## test:good\n",
    "import numpy as np\n",
    "import matplotlib.pyplot as plt \n",
    "from scipy import linalg as la\n",
    "from scipy.sparse import identity\n",
    "T=100\n",
    "lmax=10\n",
    "l=9\n",
    "tau=2**(-l)\n",
    "N=100\n",
    "## The with numpy.errstate argument is used to avoid any stupid warning\n",
    "with np.errstate(divide='ignore'):\n",
    "    [z,v] = gen_data(T,lmax,collection_input)\n",
    "    [m,c] = KBF(T,l,lmax,z,collection_input)\n",
    "    [m1,c1] = EnKBF(T,l,lmax,z,N,collection_input)\n",
    "    [m2,c2] = DEnKBF(T,l,lmax,z,N,collection_input)\n",
    "v1=cut(T,lmax,l,v)\n",
    "J=T*(2**l)\n",
    "x1 = tau*np.arange(J+1)\n",
    "plt.plot(x1,m[:,0],label=\"KBF posterior mean estimate\")\n",
    "#plt.plot(x1,v1[:,0],label=\"true value\")\n",
    "plt.plot(x1,m1[:,0],label=\"EnKBF Euler posterior mean estimate\")\n",
    "plt.plot(x1,m2[:,0],label=\"DEnKBF posterior mean estimate\")\n",
    "plt.xlabel('time')\n",
    "plt.ylabel('value')\n",
    "plt.title('Kalman-Bucy Filter')\n",
    "plt.legend()\n",
    "plt.grid()\n",
    "plt.show()"
   ]
  },
  {
   "cell_type": "markdown",
   "metadata": {},
   "source": [
    "Coupled Ensemble Kalman Bucy Filter Function"
   ]
  },
  {
   "cell_type": "code",
   "execution_count": 8,
   "metadata": {},
   "outputs": [],
   "source": [
    "def CEnKBF(T,l,lmax,z,N,collection_input):\n",
    "    \n",
    "    [dim,dim_o,A,R1,R2,H,m0,C0]=collection_input\n",
    "    J=T*(2**(l-1))\n",
    "    I=identity(dim).toarray()\n",
    "    I1=identity(dim_o).toarray()\n",
    "    dt=2**(-l)\n",
    "    dt1=2**(-l+1)\n",
    "    \n",
    "    m=np.zeros((J*2+1,dim,1))\n",
    "    m1=np.zeros((J+1,dim,1))\n",
    "    c=np.zeros((J*2+1,dim,dim))\n",
    "    c1=np.zeros((J+1,dim,dim))\n",
    "    z1=cut(T,lmax,l-1,z)\n",
    "    z=cut(T,lmax,l,z)\n",
    "    \n",
    "    ## This gives a dim*N matrix\n",
    "    x = np.random.multivariate_normal(m0,C0,N).T\n",
    "    x1 = x\n",
    "    ## A dim*1 vector\n",
    "    m[0]=(np.mean(x, axis=1)).reshape(dim,1)\n",
    "    m1[0]=m[0]\n",
    "    ## dim*dim matrix\n",
    "    c[0]=((x-m[0])@((x-m[0]).T)) /(N-1)\n",
    "    c1[0]=c[0]\n",
    "    \n",
    "    dw=np.zeros((2,dim,N))\n",
    "    dv=np.zeros((2,dim_o,N))\n",
    "    for j in range(J):\n",
    "        for s in range(2):\n",
    "            dw[s] = np.random.multivariate_normal(np.zeros(dim),dt*I,N).T\n",
    "            dv[s] = np.random.multivariate_normal(np.zeros(dim_o),dt*I1,N).T\n",
    "            ## A@x:dim*N R1@dw:dim*N c[j]@(H.T):dim*dim_o z[j+1]-z[j]:dim_o*1 H@x*dt:dim_o*N R2*dv:dim_o*N \n",
    "            ## x-m[j]:dim*N c[j]:dim*dim\n",
    "\n",
    "            step1=(((x-m[2*j+s]).T)@(H.T))\n",
    "            step2=step1@(la.inv(R2)@la.inv(R2))\n",
    "            step3=step2@( (z[2*j+s+1]-z[2*j+s]) - (H@x*dt + R2@dv[s]) )\n",
    "            step4=(x-m[2*j+s])@step3 /(N-1)\n",
    "\n",
    "            x = x + A@x*dt + R1@dw[s] + step4\n",
    "            m[2*j+s+1] = (np.mean(x, axis=1)).reshape(dim,1)\n",
    "        \n",
    "        step1=(((x1-m1[j]).T)@(H.T))\n",
    "        step2=step1@(la.inv(R2)@la.inv(R2))\n",
    "        step3=step2@( (z1[j+1]-z1[j]) - (H@x1*dt1 + R2@(dv[0]+dv[1])) )\n",
    "        step4=(x1-m1[j])@step3 /(N-1)\n",
    "        \n",
    "        x1 = x1 + A@x1*dt1 + R1@(dw[0]+dw[1]) + step4\n",
    "        m1[j+1] = (np.mean(x1, axis=1)).reshape(dim,1)\n",
    "        \n",
    "    return([m,m1])"
   ]
  },
  {
   "cell_type": "markdown",
   "metadata": {},
   "source": [
    "Deterministic Coupled Ensemble Kalman Bucy Filter Function"
   ]
  },
  {
   "cell_type": "code",
   "execution_count": 9,
   "metadata": {},
   "outputs": [],
   "source": [
    "def DCEnKBF(T,l,lmax,z,N,collection_input):\n",
    "    \n",
    "    [dim,dim_o,A,R1,R2,H,m0,C0]=collection_input\n",
    "    J=T*(2**(l-1))\n",
    "    I=identity(dim).toarray()\n",
    "    I1=identity(dim_o).toarray()\n",
    "    dt=2**(-l)\n",
    "    dt1=2**(-l+1)\n",
    "    \n",
    "    m=np.zeros((J*2+1,dim,1))\n",
    "    m1=np.zeros((J+1,dim,1))\n",
    "    c=np.zeros((J*2+1,dim,dim))\n",
    "    c1=np.zeros((J+1,dim,dim))\n",
    "    z1=cut(T,lmax,l-1,z)\n",
    "    z=cut(T,lmax,l,z)\n",
    "    \n",
    "    ## This gives a dim*N matrix\n",
    "    x = np.random.multivariate_normal(m0,C0,N).T\n",
    "    x1 = x\n",
    "    ## A dim*1 vector\n",
    "    m[0]=(np.mean(x, axis=1)).reshape(dim,1)\n",
    "    m1[0]=m[0]\n",
    "    ## dim*dim matrix\n",
    "    c[0]=((x-m[0])@((x-m[0]).T)) /(N-1)\n",
    "    c1[0]=c[0]\n",
    "    \n",
    "    dw=np.zeros((2,dim,N))\n",
    "    dv=np.zeros((2,dim_o,N))\n",
    "    for j in range(J):\n",
    "        for s in range(2):\n",
    "            dw[s] = np.random.multivariate_normal(np.zeros(dim),dt*I,N).T\n",
    "            dv[s] = np.random.multivariate_normal(np.zeros(dim_o),dt*I1,N).T\n",
    "            ## A@x:dim*N R1@dw:dim*N c[j]@(H.T):dim*dim_o z[j+1]-z[j]:dim_o*1 H@x*dt:dim_o*N R2*dv:dim_o*N \n",
    "            ## x-m[j]:dim*N c[j]:dim*dim\n",
    "\n",
    "            step1=(((x-m[2*j+s]).T)@(H.T))\n",
    "            step2=step1@(la.inv(R2)@la.inv(R2))\n",
    "            step3=step2@( (z[2*j+s+1]-z[2*j+s]) - (H@(x+m[2*j+s])*dt)/2 )\n",
    "            step4=(x-m[2*j+s])@step3 /(N-1)\n",
    "\n",
    "            x = x + A@x*dt + R1@dw[s] + step4\n",
    "            m[2*j+s+1] = (np.mean(x, axis=1)).reshape(dim,1)\n",
    "        \n",
    "        step1=(((x1-m1[j]).T)@(H.T))\n",
    "        step2=step1@(la.inv(R2)@la.inv(R2))\n",
    "        \n",
    "        step3=step2@( (z1[j+1]-z1[j]) - (H@(x1+m1[j])*dt1)/2 )\n",
    "        step4=(x1-m1[j])@step3 /(N-1)\n",
    "        \n",
    "        x1 = x1 + A@x1*dt1 + R1@(dw[0]+dw[1]) + step4\n",
    "        m1[j+1] = (np.mean(x1, axis=1)).reshape(dim,1)\n",
    "        \n",
    "    return([m,m1])"
   ]
  },
  {
   "cell_type": "markdown",
   "metadata": {},
   "source": [
    "Test Floor: Coupled Ensemble Kalman Bucy Filter"
   ]
  },
  {
   "cell_type": "code",
   "execution_count": 89,
   "metadata": {},
   "outputs": [
    {
     "data": {
      "image/png": "[encoded data removed]",
      "text/plain": [
       "<Figure size 432x288 with 1 Axes>"
      ]
     },
     "metadata": {
      "needs_background": "light"
     },
     "output_type": "display_data"
    }
   ],
   "source": [
    "## test:good\n",
    "import numpy as np\n",
    "import matplotlib.pyplot as plt \n",
    "from scipy import linalg as la\n",
    "from scipy.sparse import identity\n",
    "T=100\n",
    "lmax=6\n",
    "l=6\n",
    "N=50\n",
    "tau=2**(-l)\n",
    "## The with numpy.errstate argument is used to avoid any stupid warning\n",
    "with np.errstate(divide='ignore'):\n",
    "    [z,v] = gen_data(T,lmax,collection_input)\n",
    "    [m,c] = KBF(T,l,lmax,z,collection_input)\n",
    "    [m2,m3] = CEnKBF(T,l,lmax,z,N,collection_input)\n",
    "    [m4,m5] = DCEnKBF(T,l,lmax,z,N,collection_input)\n",
    "J=T*(2**l)\n",
    "x1 = tau*np.arange(J+1)\n",
    "x2 = 2**(-l+1)*np.arange(T*(2**(l-1))+1)\n",
    "plt.plot(x1,m[:,0],label=\"KBF posterior mean estimate\")\n",
    "\n",
    "plt.plot(x1,m2[:,0], label=\"CEnKBF fine posterior mean estimate\")\n",
    "plt.plot(x1,m4[:,0],label=\"DCEnKBF fine posterior mean estimate\")\n",
    "#plt.plot(x2,m5[:,0],label=\"DCEnKBF coarse posterior mean estimate\")\n",
    "#plt.plot(x2,m3[:,0],label=\"CEnKBF coarse posterior mean estimate\")\n",
    "\n",
    "#plt.plot(x1,m4[:,0],label=\"EnKBF estimate\")\n",
    "plt.xlabel('time')\n",
    "plt.ylabel('value')\n",
    "plt.title('Kalman-Bucy Filter')\n",
    "plt.legend()\n",
    "plt.grid()\n",
    "plt.show()"
   ]
  },
  {
   "cell_type": "markdown",
   "metadata": {},
   "source": [
    "Below we will prceed to test the rate of the variance, or the value of $\\beta_{1}$ in our notes\n",
    "1. Variance is a metaphor, more precisely we mean:\n",
    "   $$\\mathbb{E}[ ((\\eta^{N,l}-\\eta^{N,l-1}-\\eta^{l}+\\eta^{l-1})\\varphi)^2 ]$$\n",
    "   This is a MSE-type 'variance'.\n",
    "2. In order to get this MSE-type value, we would need an approximation of the 'true value' which is $(\\eta^{l}-\\eta^{l-1})(\\varphi)$, I approximate this 'true value' with basically large ensemble number.\n",
    "3. Once I have an estimate of the 'true value', repeat Coupled Ensemble Kalman Bucy Filter for Rep times and then take the average of the Rep suqared differences to be an estimate of the MSE-type 'variance' of interest.\n",
    "4. To estimate the 'bias' rate $\\beta_{2}$, we uses below term:\n",
    "   $$\\mathbb{E}[ |(\\eta^{N,l}-\\eta^{N,l-1}-\\eta^{l}+\\eta^{l-1})\\varphi)| ]$$\n",
    "   It's clear how we are going to deal with this one now.\n",
    "5. Well from the inequality given in the notes, clearly a large $N$ gives a close estimate of 'true value'. And to estimate the bias we will need to get the 'true value', like it or not. "
   ]
  },
  {
   "cell_type": "markdown",
   "metadata": {},
   "source": [
    "Sanity check: does the actual variance drop as discretization level l grows?  Yes!"
   ]
  },
  {
   "cell_type": "code",
   "execution_count": 58,
   "metadata": {},
   "outputs": [
    {
     "name": "stderr",
     "output_type": "stream",
     "text": [
      "100% (100 of 100) |######################| Elapsed Time: 0:00:57 Time:  0:00:57\n",
      "N/A% (0 of 100) |                        | Elapsed Time: 0:00:00 ETA:  --:--:--"
     ]
    },
    {
     "name": "stdout",
     "output_type": "stream",
     "text": [
      "Covariance at level l= 4 is 1.2030392292214624\n"
     ]
    },
    {
     "name": "stderr",
     "output_type": "stream",
     "text": [
      "100% (100 of 100) |######################| Elapsed Time: 0:01:54 Time:  0:01:54\n",
      "N/A% (0 of 100) |                        | Elapsed Time: 0:00:00 ETA:  --:--:--"
     ]
    },
    {
     "name": "stdout",
     "output_type": "stream",
     "text": [
      "Covariance at level l= 5 is 0.6895113677670908\n"
     ]
    },
    {
     "name": "stderr",
     "output_type": "stream",
     "text": [
      "100% (100 of 100) |######################| Elapsed Time: 0:03:48 Time:  0:03:48\n",
      "N/A% (0 of 100) |                        | Elapsed Time: 0:00:00 ETA:  --:--:--"
     ]
    },
    {
     "name": "stdout",
     "output_type": "stream",
     "text": [
      "Covariance at level l= 6 is 0.2721180178470024\n"
     ]
    },
    {
     "name": "stderr",
     "output_type": "stream",
     "text": [
      "100% (100 of 100) |######################| Elapsed Time: 0:07:40 Time:  0:07:40\n",
      "N/A% (0 of 100) |                        | Elapsed Time: 0:00:00 ETA:  --:--:--"
     ]
    },
    {
     "name": "stdout",
     "output_type": "stream",
     "text": [
      "Covariance at level l= 7 is 0.1513627191994118\n"
     ]
    },
    {
     "name": "stderr",
     "output_type": "stream",
     "text": [
      "100% (100 of 100) |######################| Elapsed Time: 0:15:17 Time:  0:15:17\n",
      "N/A% (0 of 100) |                        | Elapsed Time: 0:00:00 ETA:  --:--:--"
     ]
    },
    {
     "name": "stdout",
     "output_type": "stream",
     "text": [
      "Covariance at level l= 8 is 0.06740176349481428\n"
     ]
    },
    {
     "name": "stderr",
     "output_type": "stream",
     "text": [
      "100% (100 of 100) |######################| Elapsed Time: 0:30:11 Time:  0:30:11\n"
     ]
    },
    {
     "name": "stdout",
     "output_type": "stream",
     "text": [
      "Covariance at level l= 9 is 0.0398223562429567\n"
     ]
    }
   ],
   "source": [
    "import progressbar\n",
    "T=100\n",
    "lmax=12\n",
    "N=50\n",
    "#[z,v]=gen_data(T,lmax,collection_input)\n",
    "Rep=100\n",
    "evar=np.zeros(10)\n",
    "for l in range(4,10):\n",
    "    est=np.zeros(Rep)\n",
    "    pr = progressbar.ProgressBar(max_value=Rep).start()\n",
    "    for rep in range(Rep):\n",
    "        with np.errstate(divide='ignore'):\n",
    "            [m,m1]=CEnKBF(T,l,lmax,z,N,collection_input)\n",
    "        est[rep]=m[-1,0]-m1[-1,0]\n",
    "        pr.update(rep+1)\n",
    "    pr.finish()\n",
    "    evar[l]=np.sum((est-np.mean(est))*(est-np.mean(est)))/(Rep-1)\n",
    "    print('Covariance at level l=',l,'is',evar[l])"
   ]
  },
  {
   "cell_type": "markdown",
   "metadata": {},
   "source": [
    "Plot it out!"
   ]
  },
  {
   "cell_type": "code",
   "execution_count": 63,
   "metadata": {},
   "outputs": [
    {
     "name": "stdout",
     "output_type": "stream",
     "text": [
      "1.0141479231155257\n"
     ]
    },
    {
     "data": {
      "image/png": "[encoded data removed]",
      "text/plain": [
       "<Figure size 432x288 with 1 Axes>"
      ]
     },
     "metadata": {
      "needs_background": "light"
     },
     "output_type": "display_data"
    }
   ],
   "source": [
    "delt=np.zeros(10)\n",
    "for l in range(10):\n",
    "    delt[l]=2**(-l)\n",
    "b = coef(np.log10(delt[4:10]),np.log10(evar[4:10]))\n",
    "# plotting the actual points as scatter plot \n",
    "plt.scatter(np.log10(delt[4:10]), np.log10(evar[4:10]), color = \"m\", marker = \"o\", s = 30)\n",
    "y_pred = b[0] + b[1]*np.log10(delt[4:10])\n",
    "print(b[1])\n",
    "plt.plot(np.log10(delt[4:10]),y_pred,label=\"rate is 1.0141479231155257\")\n",
    "plt.xlabel('log10(Delta_l)')\n",
    "plt.ylabel('log10(Variance)')\n",
    "plt.grid()\n",
    "plt.legend()\n",
    "plt.title('Actual Variance v.s. Delta_l comparison for CEnKBF estiatme')\n",
    "plt.show()"
   ]
  },
  {
   "cell_type": "markdown",
   "metadata": {},
   "source": [
    "DCEnKBF case"
   ]
  },
  {
   "cell_type": "code",
   "execution_count": 94,
   "metadata": {},
   "outputs": [
    {
     "name": "stderr",
     "output_type": "stream",
     "text": [
      "100% (100 of 100) |######################| Elapsed Time: 0:00:58 Time:  0:00:58\n",
      "N/A% (0 of 100) |                        | Elapsed Time: 0:00:00 ETA:  --:--:--"
     ]
    },
    {
     "name": "stdout",
     "output_type": "stream",
     "text": [
      "Covariance at level l= 4 is 0.6138322650472664\n"
     ]
    },
    {
     "name": "stderr",
     "output_type": "stream",
     "text": [
      "100% (100 of 100) |######################| Elapsed Time: 0:01:54 Time:  0:01:54\n",
      "N/A% (0 of 100) |                        | Elapsed Time: 0:00:00 ETA:  --:--:--"
     ]
    },
    {
     "name": "stdout",
     "output_type": "stream",
     "text": [
      "Covariance at level l= 5 is 0.2019310772978208\n"
     ]
    },
    {
     "name": "stderr",
     "output_type": "stream",
     "text": [
      "100% (100 of 100) |######################| Elapsed Time: 0:03:51 Time:  0:03:51\n",
      "N/A% (0 of 100) |                        | Elapsed Time: 0:00:00 ETA:  --:--:--"
     ]
    },
    {
     "name": "stdout",
     "output_type": "stream",
     "text": [
      "Covariance at level l= 6 is 0.09448377435963841\n"
     ]
    },
    {
     "name": "stderr",
     "output_type": "stream",
     "text": [
      "100% (100 of 100) |######################| Elapsed Time: 0:07:34 Time:  0:07:34\n",
      "N/A% (0 of 100) |                        | Elapsed Time: 0:00:00 ETA:  --:--:--"
     ]
    },
    {
     "name": "stdout",
     "output_type": "stream",
     "text": [
      "Covariance at level l= 7 is 0.05043316378055039\n"
     ]
    },
    {
     "name": "stderr",
     "output_type": "stream",
     "text": [
      "100% (100 of 100) |######################| Elapsed Time: 0:14:55 Time:  0:14:55\n",
      "N/A% (0 of 100) |                        | Elapsed Time: 0:00:00 ETA:  --:--:--"
     ]
    },
    {
     "name": "stdout",
     "output_type": "stream",
     "text": [
      "Covariance at level l= 8 is 0.02796869841050989\n"
     ]
    },
    {
     "name": "stderr",
     "output_type": "stream",
     "text": [
      "100% (100 of 100) |######################| Elapsed Time: 0:30:49 Time:  0:30:49\n"
     ]
    },
    {
     "name": "stdout",
     "output_type": "stream",
     "text": [
      "Covariance at level l= 9 is 0.013933243410428122\n"
     ]
    }
   ],
   "source": [
    "import progressbar\n",
    "T=100\n",
    "lmax=12\n",
    "N=50\n",
    "#[z,v]=gen_data(T,lmax,collection_input)\n",
    "Rep=100\n",
    "evar=np.zeros(10)\n",
    "for l in range(4,10):\n",
    "    est=np.zeros(Rep)\n",
    "    pr = progressbar.ProgressBar(max_value=Rep).start()\n",
    "    for rep in range(Rep):\n",
    "        with np.errstate(divide='ignore'):\n",
    "            [m,m1]=DCEnKBF(T,l,lmax,z,N,collection_input)\n",
    "        est[rep]=m[-1,0]-m1[-1,0]\n",
    "        pr.update(rep+1)\n",
    "    pr.finish()\n",
    "    evar[l]=np.sum((est-np.mean(est))*(est-np.mean(est)))/(Rep-1)\n",
    "    print('Covariance at level l=',l,'is',evar[l])"
   ]
  },
  {
   "cell_type": "code",
   "execution_count": 97,
   "metadata": {},
   "outputs": [
    {
     "name": "stdout",
     "output_type": "stream",
     "text": [
      "1.050509568685716\n"
     ]
    },
    {
     "data": {
      "image/png": "[encoded data removed]",
      "text/plain": [
       "<Figure size 432x288 with 1 Axes>"
      ]
     },
     "metadata": {
      "needs_background": "light"
     },
     "output_type": "display_data"
    }
   ],
   "source": [
    "delt=np.zeros(10)\n",
    "for l in range(10):\n",
    "    delt[l]=2**(-l)\n",
    "b = coef(np.log10(delt[4:10]),np.log10(evar[4:10]))\n",
    "# plotting the actual points as scatter plot \n",
    "plt.scatter(np.log10(delt[4:10]), np.log10(evar[4:10]), color = \"m\", marker = \"o\", s = 30)\n",
    "y_pred = b[0] + b[1]*np.log10(delt[4:10])\n",
    "print(b[1])\n",
    "plt.plot(np.log10(delt[4:10]),y_pred,label=\"rate is 1.0141479231155257\")\n",
    "plt.xlabel('log10(Delta_l)')\n",
    "plt.ylabel('log10(Variance)')\n",
    "plt.grid()\n",
    "plt.legend()\n",
    "plt.title('Actual Variance v.s. Delta_l comparison for DCEnKBF estiatme')\n",
    "plt.show()"
   ]
  },
  {
   "cell_type": "markdown",
   "metadata": {},
   "source": [
    "Linear Regression Function"
   ]
  },
  {
   "cell_type": "code",
   "execution_count": 10,
   "metadata": {},
   "outputs": [],
   "source": [
    "import numpy as np \n",
    "import matplotlib.pyplot as plt \n",
    "  \n",
    "def coef(x, y): \n",
    "    # number of observations/points \n",
    "    n = np.size(x) \n",
    "  \n",
    "    # mean of x and y vector \n",
    "    m_x, m_y = np.mean(x), np.mean(y) \n",
    "  \n",
    "    # calculating cross-deviation and deviation about x \n",
    "    SS_xy = np.sum(y*x) - n*m_y*m_x \n",
    "    SS_xx = np.sum(x*x) - n*m_x*m_x \n",
    "  \n",
    "    # calculating regression coefficients \n",
    "    b_1 = SS_xy / SS_xx \n",
    "    b_0 = m_y - b_1*m_x \n",
    "  \n",
    "    return(b_0, b_1) "
   ]
  },
  {
   "cell_type": "markdown",
   "metadata": {},
   "source": [
    "Compute approximated true value for $l=4,5,6,7,8,9$\n",
    "1. Approximate the true value with EnKBF with large samples "
   ]
  },
  {
   "cell_type": "markdown",
   "metadata": {},
   "source": [
    "Compute approximated true value for $l=4,5,6,7,8,9$\n",
    "\n",
    "2. Approximate the true value with DCEnKBF instead"
   ]
  },
  {
   "cell_type": "markdown",
   "metadata": {},
   "source": [
    "Use the true value to calculate MSE-type Variance and Bias at various levels\n",
    "\n",
    "1. For CEnKBF with Euler"
   ]
  },
  {
   "cell_type": "markdown",
   "metadata": {},
   "source": [
    "Use the true value to calculate MSE-type Variance and Bias at various levels\n",
    "\n",
    "2. For DCEnKBF"
   ]
  },
  {
   "cell_type": "markdown",
   "metadata": {},
   "source": [
    "Above results show that for CEnKBF:\n",
    "$\\mathbb{E}[\\Big((\\eta_{t}^{l}-\\eta_{t}^{l-1})^{N_{l}}-(\\eta_{t}^{l}-\\eta_{t}^{l-1})\\Big)(\\varphi)^2] = 692 \\frac{\\Delta_{l}^{1.04}}{N_{l}}$\n",
    "\n",
    "for DCEnKBF:\n",
    "$\\mathbb{E}[\\Big((\\eta_{t}^{l}-\\eta_{t}^{l-1})^{N_{l}}-(\\eta_{t}^{l}-\\eta_{t}^{l-1})\\Big)(\\varphi)^2] = 2089 \\frac{\\Delta_{l}^{1.03}}{N_{l}}$"
   ]
  },
  {
   "cell_type": "markdown",
   "metadata": {},
   "source": [
    "Firstly, we want true value"
   ]
  },
  {
   "cell_type": "markdown",
   "metadata": {},
   "source": [
    "One issue is with the $Var(\\eta_{t}^{l,N})$, after checking this term actually doesn't drop with increasing $l$, which also seems to be the case in previous non-correlation noise case. One other thing to check to make sure the mechanism work is to see if this term drops with decreasing $N$, so that at least we could expect to use it.\n",
    "\n",
    "\n",
    "Although the fact that this term doesn't drop with $l$ simply suggest that in higher dimensional cases, where the number of samples $N$ are very much limited under $100$, the entire ML-estimator will never perform better (have lower variance) than that offered by that of $(\\eta_{t}^{l}(\\varphi))^{N}$ for any given $l$."
   ]
  },
  {
   "cell_type": "markdown",
   "metadata": {},
   "source": [
    "Alternately, I simulate to see the relationship of $Var(\\eta_{t}^{l,N})$ to $N$, as for the first level, l is not what we care about, we just want to choose the proper $N$."
   ]
  },
  {
   "cell_type": "markdown",
   "metadata": {},
   "source": [
    "Testing: If the actual variance of DEnKBF drops as N grows?"
   ]
  },
  {
   "cell_type": "markdown",
   "metadata": {},
   "source": [
    "Have to resort to an unfitted truth, using N=2560's levelwise true value as reference, I get a rate of roughly -0.625.\n",
    "\n",
    "At higher dimension I will just keep using this rate\n",
    "\n",
    "$\\mathbb{E}[\\eta_{t}^{l}(\\varphi) - \\eta_{t}(\\varphi)] = 53 \\Delta_{l}^{0.9029} $"
   ]
  },
  {
   "cell_type": "markdown",
   "metadata": {},
   "source": [
    "Bias save and load in here for $l \\in \\{0,1,2,3,4,5,6,7,8,9\\}$\n",
    "\n",
    "$|\\mathbb{E}[\\eta_{t}^{l}(\\varphi) - \\eta_{t}(\\varphi)]| = 53 \\Delta_{l}^{0.9029}$"
   ]
  },
  {
   "cell_type": "markdown",
   "metadata": {},
   "source": [
    "Now we need to fit level-wise Variance, or $\\mathbb{E}[(\\eta_{t}^{l,N}(\\varphi) - \\eta_{t}^{l})^{2}]$, this term might be close to $Var(\\eta_{t}^{l,N}(\\varphi))$, but it's better that we simulate one round to check the similarity.\n",
    "\n",
    "As the bias is actually fitted out, I guess we will have no choice but to use the variance to represent the \"MSE\" term, however simulation are still imperative as we want to test the EnKBF, noting that previous variance v.s. N simulation are done with DEnKBF (which shouldn't be used to fit the level-wise truth, obviously)"
   ]
  },
  {
   "cell_type": "markdown",
   "metadata": {},
   "source": [
    "When $l=4$, for EnKBF\n",
    "\n",
    "$\\mathbb{E}[(\\eta^{l,N}_{t}(\\varphi) - \\eta_{t}^{l}(\\varphi))^2] \\approx Var[\\eta_{t}^{l,N}(\\varphi)] = 408 N^{-1} $"
   ]
  },
  {
   "cell_type": "markdown",
   "metadata": {},
   "source": [
    "When $l=5$, for EnKBF\n",
    "\n",
    "$\\mathbb{E}[(\\eta^{l,N}_{t}(\\varphi) - \\eta_{t}^{l}(\\varphi))^2] \\approx Var[\\eta_{t}^{l,N}(\\varphi)] = 617 N^{-1} $"
   ]
  },
  {
   "cell_type": "markdown",
   "metadata": {},
   "source": [
    "$l=7$ gives a result that is very similar to that of $l=4$, I think it's fair to use the result of $l=5$ as the slope is basically $-1$, which makes perfect sense\n",
    "\n",
    "As a result, we decide to use unilaterally the constant, for EnKBF\n",
    "\n",
    "$Var[\\eta_{t}^{l,N}(\\varphi)] = 617 N^{-1} \\approx \\mathbb{E}[(\\eta_{t}^{l,N}(\\varphi) - \\eta_{t}^{l}(\\varphi))^2]$"
   ]
  },
  {
   "cell_type": "markdown",
   "metadata": {},
   "source": [
    "For DEnKBF, the hope is that this method guarentees $Var(\\eta_{t}^{l,N})$ decreases with discretization level $l$: It doesn't"
   ]
  },
  {
   "cell_type": "markdown",
   "metadata": {},
   "source": [
    "We could see clearly, after obtaining the approximate true value that the bias at level l=4 at least stabilize at 0.5 "
   ]
  },
  {
   "cell_type": "markdown",
   "metadata": {},
   "source": [
    "As a result, we decide to use unilaterally the constant, for DEnKBF\n",
    "\n",
    "$Var[\\eta_{t}^{l,N}(\\varphi)] = 700 N^{-1} \\approx \\mathbb{E}[(\\eta_{t}^{l,N}(\\varphi) - \\eta_{t}^{l}(\\varphi))^2]$"
   ]
  },
  {
   "cell_type": "markdown",
   "metadata": {},
   "source": [
    "Through Langrange multiplier calculation, the exact number of particles for MLEnKBF are as such:\n",
    "$$N_{3}=C 2^{1.8L}(617+(L-3)\\sqrt{617*692/8})$$\n",
    "$$N_{l}=C 2^{1.8L-l}(\\sqrt{8*617*692}+(L-3)*692)\\,\\,\\,\\,\\,\\, l>3$$\n",
    "where the constant $C$ should be chosen so that the \"variance\" of the ML estimator matches its suqare bias, which is $\\Delta_{L}^{1.8}=2^{-1.8L}$\n",
    "$$C \\approx 1$$\n",
    "\n",
    "\n",
    "For MLDEnKBF, the number of particles are:\n",
    "$$N_{3}=C_{D} 2^{1.8L}(700+(L-3)\\sqrt{700*2089/8})$$\n",
    "$$N_{l}=C_{D} 2^{1.8L-l}(\\sqrt{8*700*2089}+(L-3)*2089)\\,\\,\\,\\,\\,\\, l>3$$\n",
    "where the constant $C$ should be chosen so that the \"variance\" of the ML estimator matches its suqare bias, which is $\\Delta_{L}^{1.8}=2^{-1.8L}$\n",
    "\n",
    "$$C_{D} \\approx 4$$"
   ]
  },
  {
   "cell_type": "markdown",
   "metadata": {},
   "source": [
    "Now, I could proceed to construct the ML estimator, finally. Simulations are of course required to determine the choice of $C$, but it would be good to get a little program to calcualte (unnormalized version of) $N_0$ and $N_l$ given $L$ and $l$.\n",
    "\n",
    "For MLEnKBF: note that we need $L>3$"
   ]
  },
  {
   "cell_type": "code",
   "execution_count": 9,
   "metadata": {},
   "outputs": [],
   "source": [
    "def Numcal(C,L):\n",
    "    Num=np.zeros(L+1)\n",
    "    Num[3]=C*2**(1.8*L)*(617+(L-3)*np.sqrt(617*692/8))\n",
    "    Num[3]=int(Num[3])\n",
    "    for li in range(4,L+1):\n",
    "        Num[li]=C*2**(1.8*L-li)*(np.sqrt(617*692*8)+692*(L-3))\n",
    "        Num[li]=int(Num[li])\n",
    "    return(Num)"
   ]
  },
  {
   "cell_type": "markdown",
   "metadata": {},
   "source": [
    "For MLDEnKBF: note that we need $L>3$"
   ]
  },
  {
   "cell_type": "code",
   "execution_count": 10,
   "metadata": {},
   "outputs": [],
   "source": [
    "def Numcal_D(C,L):\n",
    "    Num=np.zeros(L+1)\n",
    "    Num[3]=C*2**(1.8*L)*(700+(L-3)*np.sqrt(700*2089/8))\n",
    "    Num[3]=int(Num[3])\n",
    "    for li in range(4,L+1):\n",
    "        Num[li]=C*2**(1.8*L-li)*(np.sqrt(700*2089*8)+2089*(L-3))\n",
    "        Num[li]=int(Num[li])\n",
    "    return(Num)"
   ]
  },
  {
   "cell_type": "markdown",
   "metadata": {},
   "source": [
    "Multilevel-Ensemble Kalman Bucy Filter Function"
   ]
  },
  {
   "cell_type": "code",
   "execution_count": 73,
   "metadata": {},
   "outputs": [],
   "source": [
    "def MLEnKBF(C,T,L,lmax,z,collection_input):\n",
    "    Num=Numcal(C,L)\n",
    "    telescopic_summand=np.zeros(L-3+1)\n",
    "    [m,c]=EnKBF(T,3,lmax,z,int(Num[3]),collection_input)\n",
    "    telescopic_summand[0]=m[-1,0]\n",
    "    for l in range(4,L+1):\n",
    "        [m1,m2]=CEnKBF(T,l,lmax,z,int(Num[l]),collection_input)\n",
    "        telescopic_summand[l-3]=m1[-1,0]-m2[-1,0]\n",
    "    est=np.sum(telescopic_summand)\n",
    "    return(est)"
   ]
  },
  {
   "cell_type": "markdown",
   "metadata": {},
   "source": [
    "Multilevel-Deterministic Ensemble Kalman Bucy Filter Function"
   ]
  },
  {
   "cell_type": "code",
   "execution_count": 25,
   "metadata": {},
   "outputs": [],
   "source": [
    "def MLDEnKBF(C,T,L,lmax,z,collection_input):\n",
    "    Num=Numcal_D(C,L)\n",
    "    telescopic_summand=np.zeros(L-3+1)\n",
    "    [m,c]=DEnKBF(T,3,lmax,z,int(Num[3]),collection_input)\n",
    "    telescopic_summand[0]=m[-1,0]\n",
    "    for l in range(4,L+1):\n",
    "        [m1,m2]=DCEnKBF(T,l,lmax,z,int(Num[l]),collection_input)\n",
    "        telescopic_summand[l-3]=m1[-1,0]-m2[-1,0]\n",
    "    est=np.sum(telescopic_summand)\n",
    "    return(est)"
   ]
  },
  {
   "cell_type": "markdown",
   "metadata": {},
   "source": [
    "Now we run & test the rate for MLEnKBF, we want to target different levels of accuracy $\\mathcal{O}(\\epsilon^2)=\\Delta_{L}^{1.8}=2^{-(1.8L)}$, and compute it's cost $\\sum_{l=3}^{L}\\frac{N_{l}}{\\Delta_{l}}$, we want to compare MLEnKBF with EnKBF"
   ]
  },
  {
   "cell_type": "markdown",
   "metadata": {},
   "source": [
    "Now define cost functions for EnKBF and MLEnKBF"
   ]
  },
  {
   "cell_type": "code",
   "execution_count": 12,
   "metadata": {},
   "outputs": [],
   "source": [
    "def cost_enkbf(l):\n",
    "    kk=2**(2.8*l) * 617\n",
    "    return(int(kk))\n",
    "def cost_mlenkbf(C,L):\n",
    "    num=Numcal(C,L)\n",
    "    kk=0\n",
    "    for l in range(3,L+1):\n",
    "        kk=kk+num[l]*(2**(l))\n",
    "    return(kk)"
   ]
  },
  {
   "cell_type": "markdown",
   "metadata": {},
   "source": [
    "Cost function for DEnKBF and MLDEnKBF"
   ]
  },
  {
   "cell_type": "code",
   "execution_count": 13,
   "metadata": {},
   "outputs": [],
   "source": [
    "def cost_denkbf(l):\n",
    "    kk=2**(2.8*l) * 700\n",
    "    return(int(kk))\n",
    "def cost_mldenkbf(C,L):\n",
    "    num=Numcal_D(C,L)\n",
    "    kk=0\n",
    "    for l in range(3,L+1):\n",
    "        kk=kk+num[l]*(2**(l))\n",
    "    return(kk)"
   ]
  },
  {
   "cell_type": "markdown",
   "metadata": {},
   "source": [
    "Cost calculation for EnKBF and MLEnKBF"
   ]
  },
  {
   "cell_type": "code",
   "execution_count": 14,
   "metadata": {},
   "outputs": [],
   "source": [
    "en_cost=np.zeros(9)\n",
    "ml_cost=np.zeros(9)\n",
    "C=0.0008\n",
    "for l in range(4,9):\n",
    "    en_cost[l]=cost_enkbf(l)\n",
    "    ml_cost[l]=cost_mlenkbf(C,l)"
   ]
  },
  {
   "cell_type": "markdown",
   "metadata": {},
   "source": [
    "Cost calculation for DEnKBF and MLDEnKBF"
   ]
  },
  {
   "cell_type": "code",
   "execution_count": 15,
   "metadata": {},
   "outputs": [],
   "source": [
    "end_cost=np.zeros(9)\n",
    "mld_cost=np.zeros(9)\n",
    "C=0.0002\n",
    "for l in range(4,9):\n",
    "    end_cost[l]=cost_denkbf(l)\n",
    "    mld_cost[l]=cost_mldenkbf(C,l)"
   ]
  },
  {
   "cell_type": "markdown",
   "metadata": {},
   "source": [
    "Just to sum up:\n",
    "1. en_cost is cost for EnKBF at each level\n",
    "2. ml_cost is cost for MLEnKBF at each level\n",
    "3. en_var is variance for EnKBF at each level\n",
    "4. ml_var is variance for MLEnKBF at each level\n",
    "5. bit is bias for both at each level\n",
    "6. en_mse is MSE for EnKBF at each level\n",
    "7. ml_mse is MSE for MLEnKBF at each level\n",
    "\n",
    "Note that only levels 4,5,6,7,8 are simulated so the rest of the entries has no meaning"
   ]
  },
  {
   "cell_type": "markdown",
   "metadata": {},
   "source": [
    "The \"coef\" function is used for linear regression"
   ]
  },
  {
   "cell_type": "code",
   "execution_count": 18,
   "metadata": {},
   "outputs": [],
   "source": [
    "import numpy as np \n",
    "import matplotlib.pyplot as plt \n",
    "  \n",
    "def coef(x, y): \n",
    "    # number of observations/points \n",
    "    n = np.size(x) \n",
    "  \n",
    "    # mean of x and y vector \n",
    "    m_x, m_y = np.mean(x), np.mean(y) \n",
    "  \n",
    "    # calculating cross-deviation and deviation about x \n",
    "    SS_xy = np.sum(y*x) - n*m_y*m_x \n",
    "    SS_xx = np.sum(x*x) - n*m_x*m_x \n",
    "  \n",
    "    # calculating regression coefficients \n",
    "    b_1 = SS_xy / SS_xx \n",
    "    b_0 = m_y - b_1*m_x \n",
    "  \n",
    "    return(b_0, b_1) "
   ]
  }
 ],
 "metadata": {
  "kernelspec": {
   "display_name": "Python 3",
   "language": "python",
   "name": "python3"
  },
  "language_info": {
   "codemirror_mode": {
    "name": "ipython",
    "version": 3
   },
   "file_extension": ".py",
   "mimetype": "text/x-python",
   "name": "python",
   "nbconvert_exporter": "python",
   "pygments_lexer": "ipython3",
   "version": "3.7.7"
  }
 },
 "nbformat": 4,
 "nbformat_minor": 4
}
